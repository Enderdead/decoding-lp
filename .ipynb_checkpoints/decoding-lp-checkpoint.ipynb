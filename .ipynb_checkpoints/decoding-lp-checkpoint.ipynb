{
 "cells": [
  {
   "cell_type": "code",
   "execution_count": 31,
   "metadata": {},
   "outputs": [],
   "source": [
    "from multiprocessing import Pool\n",
    "import numpy as np\n",
    "from scipy import optimize\n",
    "from scipy import sparse\n",
    "import math"
   ]
  },
  {
   "cell_type": "code",
   "execution_count": 26,
   "metadata": {},
   "outputs": [],
   "source": [
    "def decode(A, y):\n",
    "    \"\"\"\n",
    "    min [ 0 1 ]^T[ g  t ]\n",
    "\n",
    "    s.t.\n",
    "    [ -A -I ][ g ] <= [ -y ]\n",
    "    [  A -I ][ t ]    [  y ]\n",
    "    \"\"\"\n",
    "\n",
    "    A_ub = np.concatenate((\n",
    "        np.concatenate((A * -1, A), axis=0),\n",
    "        np.concatenate((\n",
    "            -1 * np.identity(A.shape[0]),\n",
    "            -1 * np.identity(A.shape[0])), axis=0)), axis=1)\n",
    "\n",
    "    b_ub = np.concatenate((-1 * y, y), axis=0)\n",
    "    lp_coeff = np.concatenate((np.zeros(A.shape[1]), np.ones(A.shape[0])))\n",
    "\n",
    "    return optimize.linprog(\n",
    "        lp_coeff, A_ub=A_ub, b_ub=b_ub,\n",
    "        bounds=[(None, None) for _ in range(A.shape[0] + A.shape[1])])\n"
   ]
  },
  {
   "cell_type": "code",
   "execution_count": 27,
   "metadata": {},
   "outputs": [],
   "source": [
    "def form(n=256, error=0.1, mscale=2):\n",
    "    \"\"\"\n",
    "    \"\"\"\n",
    "\n",
    "    m = mscale * n\n",
    "\n",
    "    A = np.random.normal(size=(m, n), scale=math.sqrt(1 / n))\n",
    "    x = np.random.normal(size=(n, 1))\n",
    "    e = sparse.random(m, 1, density=error).A\n",
    "    y = np.matmul(A, x) + e\n",
    "\n",
    "    return A, x, e, y"
   ]
  },
  {
   "cell_type": "code",
   "execution_count": 53,
   "metadata": {},
   "outputs": [],
   "source": [
    "def test(n, error, mscale, threshold=1e-13):\n",
    "\n",
    "    A, x, e, y = form(n=n, error=error, mscale=mscale)\n",
    "\n",
    "    opt = decode(A, y)\n",
    "\n",
    "    error = x[:, 0] - opt.x[:n]\n",
    "    error[np.abs(error) < threshold] = 0\n",
    "\n",
    "    err = np.linalg.norm(error, ord=0)\n",
    "    \n",
    "    \"\"\"\n",
    "    if err != 0:\n",
    "        print(\"x: \")\n",
    "        print(x[:, 0])\n",
    "        print(\"noise: \")\n",
    "        print(e[:, 0])\n",
    "        print(\"recovered: \")\n",
    "        print(opt.x[:n])\n",
    "        print(\"error: \")\n",
    "        print(error)\n",
    "    \"\"\"\n",
    "    return err\n",
    "\n",
    "\n",
    "def test_mp(args):\n",
    "\n",
    "    n, error, mscale, threshold = args\n",
    "    return test(n, error, mscale, threshold)\n"
   ]
  },
  {
   "cell_type": "code",
   "execution_count": 58,
   "metadata": {},
   "outputs": [],
   "source": [
    "def profile(n, error, mscale, iterations):\n",
    "    \n",
    "    p = Pool()\n",
    "    errors = p.map(\n",
    "    test_mp, [[n, error, mscale, 1e-13] for _ in range(iterations)])\n",
    "\n",
    "    perr = len([i for i in errors if i == 0]) / len(errors)\n",
    "\n",
    "    return perr\n",
    "    "
   ]
  },
  {
   "cell_type": "code",
   "execution_count": 57,
   "metadata": {},
   "outputs": [
    {
     "ename": "TypeError",
     "evalue": "'float' object cannot be interpreted as an integer",
     "output_type": "error",
     "traceback": [
      "\u001b[0;31m---------------------------------------------------------------------------\u001b[0m",
      "\u001b[0;31mTypeError\u001b[0m                                 Traceback (most recent call last)",
      "\u001b[0;32m<ipython-input-57-ee3854e47a35>\u001b[0m in \u001b[0;36m<module>\u001b[0;34m\u001b[0m\n\u001b[0;32m----> 1\u001b[0;31m \u001b[0;32mfor\u001b[0m \u001b[0mi\u001b[0m \u001b[0;32min\u001b[0m \u001b[0mrange\u001b[0m\u001b[0;34m(\u001b[0m\u001b[0;36m0.05\u001b[0m\u001b[0;34m,\u001b[0m \u001b[0;36m0.5\u001b[0m\u001b[0;34m,\u001b[0m \u001b[0;36m0.05\u001b[0m\u001b[0;34m)\u001b[0m\u001b[0;34m:\u001b[0m\u001b[0;34m\u001b[0m\u001b[0;34m\u001b[0m\u001b[0m\n\u001b[0m\u001b[1;32m      2\u001b[0m     \u001b[0mprint\u001b[0m\u001b[0;34m(\u001b[0m\u001b[0mi\u001b[0m\u001b[0;34m,\u001b[0m \u001b[0mprofile\u001b[0m\u001b[0;34m(\u001b[0m\u001b[0;36m64\u001b[0m\u001b[0;34m,\u001b[0m \u001b[0mi\u001b[0m\u001b[0;34m,\u001b[0m \u001b[0;36m2\u001b[0m\u001b[0;34m,\u001b[0m \u001b[0;36m5\u001b[0m\u001b[0;34m)\u001b[0m\u001b[0;34m)\u001b[0m\u001b[0;34m\u001b[0m\u001b[0;34m\u001b[0m\u001b[0m\n",
      "\u001b[0;31mTypeError\u001b[0m: 'float' object cannot be interpreted as an integer"
     ]
    }
   ],
   "source": [
    "for i in range(0.05, 0.5, 0.05):\n",
    "    print(i, profile(64, i, 2, 5))"
   ]
  },
  {
   "cell_type": "code",
   "execution_count": null,
   "metadata": {},
   "outputs": [],
   "source": []
  }
 ],
 "metadata": {
  "kernelspec": {
   "display_name": "Python 3",
   "language": "python",
   "name": "python3"
  },
  "language_info": {
   "codemirror_mode": {
    "name": "ipython",
    "version": 3
   },
   "file_extension": ".py",
   "mimetype": "text/x-python",
   "name": "python",
   "nbconvert_exporter": "python",
   "pygments_lexer": "ipython3",
   "version": "3.6.7"
  }
 },
 "nbformat": 4,
 "nbformat_minor": 2
}

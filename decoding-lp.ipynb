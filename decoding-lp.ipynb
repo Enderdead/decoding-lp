{
 "cells": [
  {
   "cell_type": "code",
   "execution_count": 1,
   "metadata": {},
   "outputs": [],
   "source": [
    "from multiprocessing import Pool\n",
    "import numpy as np\n",
    "from scipy import optimize\n",
    "from scipy import sparse\n",
    "import math"
   ]
  },
  {
   "cell_type": "code",
   "execution_count": 14,
   "metadata": {},
   "outputs": [],
   "source": [
    "def decode(A, y):\n",
    "    \"\"\"Decode y\n",
    "    \n",
    "    Parameters\n",
    "    ----------\n",
    "    A : np.array\n",
    "        Encoding matrix\n",
    "    y : np.array\n",
    "        Ax + e for some error e\n",
    "    \n",
    "    Returns\n",
    "    -------\n",
    "    np.array\n",
    "        Solving the standard LP\n",
    "\n",
    "        min [ 0 1 ]^T[ g  t ]\n",
    "\n",
    "        s.t.\n",
    "        [ -A -I ][ g ] <= [ -y ]\n",
    "        [  A -I ][ t ]    [  y ]\n",
    "    \"\"\"\n",
    "\n",
    "    A_ub = np.concatenate((\n",
    "        np.concatenate((A * -1, A), axis=0),\n",
    "        np.concatenate((\n",
    "            -1 * np.identity(A.shape[0]),\n",
    "            -1 * np.identity(A.shape[0])), axis=0)), axis=1)\n",
    "\n",
    "    b_ub = np.concatenate((-1 * y, y), axis=0)\n",
    "    lp_coeff = np.concatenate((np.zeros(A.shape[1]), np.ones(A.shape[0])))\n",
    "\n",
    "    return optimize.linprog(\n",
    "        lp_coeff, A_ub=A_ub, b_ub=b_ub,\n",
    "        bounds=[(None, None) for _ in range(A.shape[1])] + [(0, None) for _ in range(A.shape[0])],\n",
    "        method='simplex',\n",
    "        options={'tol': 1e-9, 'maxiter': 10000})\n"
   ]
  },
  {
   "cell_type": "code",
   "execution_count": 15,
   "metadata": {},
   "outputs": [],
   "source": [
    "def form(n=256, error=0.1, mscale=2):\n",
    "    \"\"\"Form test inputs\n",
    "    \n",
    "    Parameters\n",
    "    ----------\n",
    "    n : int\n",
    "        Input dimensions\n",
    "    error : float\n",
    "        Corruption ratio\n",
    "    mscale : int\n",
    "        m as a factor of n (i.e. m=2n <=> mscale=2)\n",
    "    \n",
    "    Returns\n",
    "    -------\n",
    "    [np.array, np.array, np.array, np.array]\n",
    "        [A, x, e, y]\n",
    "    \"\"\"\n",
    "\n",
    "    m = mscale * n\n",
    "\n",
    "    A = np.random.normal(size=(m, n), scale=math.sqrt(1 / n))\n",
    "    x = np.random.normal(size=(n, 1))\n",
    "    e = sparse.random(m, 1, density=error).A\n",
    "    y = np.matmul(A, x) + e\n",
    "\n",
    "    return A, x, e, y"
   ]
  },
  {
   "cell_type": "code",
   "execution_count": 30,
   "metadata": {},
   "outputs": [],
   "source": [
    "def test(n, error, mscale, threshold=1e-7):\n",
    "    \"\"\"Run a single test\n",
    "    \n",
    "    Parameters\n",
    "    ----------\n",
    "    n : int\n",
    "        Input dimensions\n",
    "    error : float\n",
    "        Corruption ratio\n",
    "    mscale : int\n",
    "        m as a factor of n (i.e. m=2n <=> mscale=2)\n",
    "    threshold : float\n",
    "        threshold to consider two values the same\n",
    "        \n",
    "    Returns\n",
    "    -------\n",
    "    [float, int]\n",
    "        0: l_0 norm of the error, with errors under ``threshold`` ignored\n",
    "        1: status code returned by scipy.optimize.linprog\n",
    "    \"\"\"\n",
    "\n",
    "    A, x, e, y = form(n=n, error=error, mscale=mscale)\n",
    "\n",
    "    opt = decode(A, y)\n",
    "\n",
    "    error = x[:, 0] - opt.x[:n]\n",
    "    error[np.abs(error) < threshold] = 0\n",
    "\n",
    "    err = np.linalg.norm(error, ord=0)\n",
    "    \n",
    "    return err, opt.status\n",
    "\n",
    "\n",
    "def test_mp(args):\n",
    "    \"\"\"Procpool compatible wrapper of test\"\"\"\n",
    "\n",
    "    n, error, mscale, threshold = args\n",
    "    return test(n, error, mscale, threshold)\n"
   ]
  },
  {
   "cell_type": "code",
   "execution_count": 31,
   "metadata": {},
   "outputs": [],
   "source": [
    "def profile(n, error, mscale, iterations):\n",
    "    \"\"\"Run profile for given parameters\n",
    "    \n",
    "    Parameters\n",
    "    ----------\n",
    "    n : int\n",
    "        Input dimensions\n",
    "    error : float\n",
    "        Corruption ratio\n",
    "    mscale : int\n",
    "        m as a factor of n (i.e. m=2n <=> mscale=2)\n",
    "    iterations : int\n",
    "        Number of tests to run\n",
    "    \n",
    "    Returns\n",
    "    -------\n",
    "    [float, float[], int[]]\n",
    "        [proportion error, error values, status code of scipy.optimize.linprog]\n",
    "    \"\"\"\n",
    "    \n",
    "    p = Pool()\n",
    "    res = p.map(test_mp, [[n, error, mscale, 1e-13] for _ in range(iterations)])\n",
    "\n",
    "    errors = [r[0] for r in res]\n",
    "    status = [r[1] for r in res]\n",
    "    \n",
    "    perr = len([i for i in errors if i == 0]) / len(errors)\n",
    "\n",
    "    return perr, errors, status\n",
    "    "
   ]
  },
  {
   "cell_type": "code",
   "execution_count": 24,
   "metadata": {},
   "outputs": [
    {
     "name": "stdout",
     "output_type": "stream",
     "text": [
      "0.05 1.0 [0.0, 0.0, 0.0, 0.0, 0.0, 0.0, 0.0, 0.0, 0.0, 0.0] [0, 0, 0, 0, 0, 0, 0, 0, 0, 0]\n",
      "0.10 1.0 [0.0, 0.0, 0.0, 0.0, 0.0, 0.0, 0.0, 0.0, 0.0, 0.0] [0, 0, 0, 0, 0, 0, 0, 0, 0, 0]\n",
      "0.15 1.0 [0.0, 0.0, 0.0, 0.0, 0.0, 0.0, 0.0, 0.0, 0.0, 0.0] [0, 0, 0, 0, 0, 0, 0, 0, 0, 0]\n",
      "0.20 0.8 [0.0, 0.0, 0.0, 0.0, 0.0, 0.0, 0.0, 0.0, 128.0, 128.0] [0, 0, 0, 0, 0, 0, 0, 0, 0, 0]\n",
      "0.25 0.0 [128.0, 128.0, 128.0, 128.0, 128.0, 128.0, 128.0, 128.0, 128.0, 128.0] [0, 0, 0, 0, 0, 0, 0, 0, 0, 0]\n",
      "0.30 0.0 [128.0, 128.0, 128.0, 128.0, 128.0, 128.0, 128.0, 128.0, 128.0, 128.0] [0, 0, 0, 0, 0, 0, 0, 0, 0, 0]\n",
      "0.35 0.0 [128.0, 128.0, 128.0, 128.0, 128.0, 128.0, 128.0, 128.0, 128.0, 128.0] [0, 0, 0, 0, 0, 0, 0, 0, 0, 0]\n",
      "0.40 0.0 [128.0, 128.0, 128.0, 128.0, 128.0, 128.0, 128.0, 128.0, 128.0, 128.0] [0, 0, 0, 0, 0, 0, 0, 0, 0, 0]\n"
     ]
    }
   ],
   "source": [
    "d = []\n",
    "x = [0.05 * (i + 1) for i in range(8)]\n",
    "for e in x:\n",
    "    perr, src, status = profile(128, e, 2, 10)\n",
    "    d.append(perr)\n",
    "    print(\"{:.2f} {} {} {}\".format(e, perr, src, status))"
   ]
  },
  {
   "cell_type": "code",
   "execution_count": 27,
   "metadata": {},
   "outputs": [],
   "source": [
    "from matplotlib import pyplot as plt"
   ]
  },
  {
   "cell_type": "code",
   "execution_count": 28,
   "metadata": {},
   "outputs": [
    {
     "data": {
      "text/plain": [
       "<matplotlib.collections.PathCollection at 0x7f6f8f090390>"
      ]
     },
     "execution_count": 28,
     "metadata": {},
     "output_type": "execute_result"
    },
    {
     "data": {
      "image/png": "[encoded data removed]",
      "text/plain": [
       "<Figure size 432x288 with 1 Axes>"
      ]
     },
     "metadata": {
      "needs_background": "light"
     },
     "output_type": "display_data"
    }
   ],
   "source": [
    "plt.scatter(x, d)"
   ]
  }
 ],
 "metadata": {
  "kernelspec": {
   "display_name": "Python 3",
   "language": "python",
   "name": "python3"
  },
  "language_info": {
   "codemirror_mode": {
    "name": "ipython",
    "version": 3
   },
   "file_extension": ".py",
   "mimetype": "text/x-python",
   "name": "python",
   "nbconvert_exporter": "python",
   "pygments_lexer": "ipython3",
   "version": "3.6.7"
  }
 },
 "nbformat": 4,
 "nbformat_minor": 2
}
